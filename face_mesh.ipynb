{
 "cells": [
  {
   "cell_type": "code",
   "execution_count": 13,
   "metadata": {},
   "outputs": [
    {
     "name": "stderr",
     "output_type": "stream",
     "text": [
      "I0000 00:00:1715878874.644298 9884196 gl_context.cc:357] GL version: 2.1 (2.1 Metal - 76.3), renderer: Apple M1 Max\n",
      "W0000 00:00:1715878874.724360 9894800 inference_feedback_manager.cc:114] Feedback manager requires a model with a single signature inference. Disabling support for feedback tensors.\n",
      "W0000 00:00:1715878874.730316 9894800 inference_feedback_manager.cc:114] Feedback manager requires a model with a single signature inference. Disabling support for feedback tensors.\n",
      "W0000 00:00:1715878874.730988 9894805 inference_feedback_manager.cc:114] Feedback manager requires a model with a single signature inference. Disabling support for feedback tensors.\n",
      "W0000 00:00:1715878874.730988 9894800 inference_feedback_manager.cc:114] Feedback manager requires a model with a single signature inference. Disabling support for feedback tensors.\n",
      "W0000 00:00:1715878874.731294 9894804 inference_feedback_manager.cc:114] Feedback manager requires a model with a single signature inference. Disabling support for feedback tensors.\n",
      "W0000 00:00:1715878874.733534 9894804 inference_feedback_manager.cc:114] Feedback manager requires a model with a single signature inference. Disabling support for feedback tensors.\n",
      "W0000 00:00:1715878874.734983 9894800 inference_feedback_manager.cc:114] Feedback manager requires a model with a single signature inference. Disabling support for feedback tensors.\n",
      "W0000 00:00:1715878874.735847 9894799 inference_feedback_manager.cc:114] Feedback manager requires a model with a single signature inference. Disabling support for feedback tensors.\n"
     ]
    }
   ],
   "source": [
    "import cv2\n",
    "import mediapipe as mp\n",
    "\n",
    "# Initialize mediapipe holistic model and drawing utils\n",
    "holistic_model = mp.solutions.holistic\n",
    "drawing_utils = mp.solutions.drawing_utils\n",
    "\n",
    "# Function to make detections\n",
    "def detect_mediapipe_features(image, model):\n",
    "    image = cv2.cvtColor(image, cv2.COLOR_BGR2RGB)  # Color conversion\n",
    "    image.flags.writeable = False  # Image is no longer writeable\n",
    "    results = model.process(image)  # Make predictions\n",
    "    image.flags.writeable = True  # Image is now writeable\n",
    "    image = cv2.cvtColor(image, cv2.COLOR_RGB2BGR)  # Color conversion back\n",
    "    return image, results\n",
    "\n",
    "# Function to draw styled landmarks\n",
    "def draw_custom_landmarks(image, results):\n",
    "    # Draw face connections\n",
    "    drawing_utils.draw_landmarks(\n",
    "        image, results.face_landmarks, holistic_model.FACEMESH_TESSELATION,\n",
    "        drawing_utils.DrawingSpec(color=(80, 110, 10), thickness=1, circle_radius=1),\n",
    "        drawing_utils.DrawingSpec(color=(80, 256, 121), thickness=1, circle_radius=1)\n",
    "    )\n",
    "  \n",
    "    # Draw left hand connections\n",
    "    drawing_utils.draw_landmarks(\n",
    "        image, results.left_hand_landmarks, holistic_model.HAND_CONNECTIONS,\n",
    "        drawing_utils.DrawingSpec(color=(121, 22, 76), thickness=2, circle_radius=4),\n",
    "        drawing_utils.DrawingSpec(color=(121, 44, 250), thickness=2, circle_radius=2)\n",
    "    )\n",
    "    # Draw right hand connections\n",
    "    drawing_utils.draw_landmarks(\n",
    "        image, results.right_hand_landmarks, holistic_model.HAND_CONNECTIONS,\n",
    "        drawing_utils.DrawingSpec(color=(245, 117, 66), thickness=2, circle_radius=4),\n",
    "        drawing_utils.DrawingSpec(color=(245, 66, 230), thickness=2, circle_radius=2)\n",
    "    )\n",
    "\n",
    "# Open the webcam\n",
    "video_capture = cv2.VideoCapture(0)\n",
    "\n",
    "# Set up the mediapipe model\n",
    "with holistic_model.Holistic(min_detection_confidence=0.5, min_tracking_confidence=0.5) as holistic:\n",
    "    while video_capture.isOpened():\n",
    "        # Read the feed\n",
    "        ret, frame = video_capture.read()\n",
    "        \n",
    "        if not ret:\n",
    "            break\n",
    "        \n",
    "        # Make detections\n",
    "        frame, detection_results = detect_mediapipe_features(frame, holistic)\n",
    "        \n",
    "        # Draw landmarks\n",
    "        draw_custom_landmarks(frame, detection_results)\n",
    "\n",
    "        # Show the image\n",
    "        cv2.imshow('OpenCV Feed', frame)\n",
    "\n",
    "        # Break gracefully\n",
    "        if cv2.waitKey(10) & 0xFF == ord('q'):\n",
    "            break\n",
    "\n",
    "# Release the webcam and destroy all OpenCV windows\n",
    "video_capture.release()\n",
    "cv2.destroyAllWindows()\n"
   ]
  }
 ],
 "metadata": {
  "kernelspec": {
   "display_name": "Python 3",
   "language": "python",
   "name": "python3"
  },
  "language_info": {
   "codemirror_mode": {
    "name": "ipython",
    "version": 3
   },
   "file_extension": ".py",
   "mimetype": "text/x-python",
   "name": "python",
   "nbconvert_exporter": "python",
   "pygments_lexer": "ipython3",
   "version": "3.10.0"
  }
 },
 "nbformat": 4,
 "nbformat_minor": 2
}
